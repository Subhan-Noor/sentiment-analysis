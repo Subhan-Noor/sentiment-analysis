{
 "cells": [
  {
   "cell_type": "code",
   "execution_count": null,
   "metadata": {
    "vscode": {
     "languageId": "plaintext"
    }
   },
   "outputs": [],
   "source": [
    "import pandas as pd\n",
    "import numpy as np\n",
    "import matplotlib.pyplot as plt\n",
    "import seaborn as sns\n",
    "import joblib\n",
    "import os\n",
    "import re\n",
    "from nltk.corpus import stopwords\n",
    "from nltk.tokenize import RegexpTokenizer\n",
    "from wordcloud import WordCloud"
   ]
  },
  {
   "cell_type": "code",
   "execution_count": null,
   "metadata": {
    "vscode": {
     "languageId": "plaintext"
    }
   },
   "outputs": [],
   "source": [
    "model = joblib.load(\"outputs/svm_model.joblib\")\n",
    "tfidf = joblib.load(\"outputs/tfidf_vectorizer.joblib\")\n",
    "svd = joblib.load(\"outputs/svd_transformer.joblib\")"
   ]
  },
  {
   "cell_type": "code",
   "execution_count": null,
   "metadata": {
    "vscode": {
     "languageId": "plaintext"
    }
   },
   "outputs": [],
   "source": [
    "df = pd.read_csv(\"data/new_unseen_comments.csv\")\n",
    "df = df.dropna(subset=['short_comment'])\n",
    "\n",
    "def preprocess_text(text):\n",
    "    text = re.sub(r'[^A-Za-z\\s]', '', str(text)).lower()\n",
    "    tokenizer = RegexpTokenizer(r'\\w+')\n",
    "    words = tokenizer.tokenize(text)\n",
    "    words = [word for word in words if word not in stopwords.words('english')]\n",
    "    return ' '.join(words)\n",
    "\n",
    "df['cleaned_comment'] = df['short_comment'].apply(preprocess_text)"
   ]
  },
  {
   "cell_type": "code",
   "execution_count": null,
   "metadata": {
    "vscode": {
     "languageId": "plaintext"
    }
   },
   "outputs": [],
   "source": [
    "X_tfidf = tfidf.transform(df['cleaned_comment'])\n",
    "X_reduced = svd.transform(X_tfidf)"
   ]
  },
  {
   "cell_type": "code",
   "execution_count": null,
   "metadata": {
    "vscode": {
     "languageId": "plaintext"
    }
   },
   "outputs": [],
   "source": [
    "predicted_labels = model.predict(X_reduced)\n",
    "confidence_scores = model.predict_proba(X_reduced)[:, 1] if hasattr(model, 'predict_proba') else model.decision_function(X_reduced)\n",
    "\n",
    "df['predicted_label'] = predicted_labels\n",
    "df['confidence_score'] = confidence_scores"
   ]
  },
  {
   "cell_type": "code",
   "execution_count": null,
   "metadata": {
    "vscode": {
     "languageId": "plaintext"
    }
   },
   "outputs": [],
   "source": [
    "df.to_csv(\"outputs/predicted_unseen_data.csv\", index=False)"
   ]
  },
  {
   "cell_type": "code",
   "execution_count": null,
   "metadata": {
    "vscode": {
     "languageId": "plaintext"
    }
   },
   "outputs": [],
   "source": [
    "plt.figure(figsize=(6, 4))\n",
    "sns.countplot(data=df, x='predicted_label')\n",
    "plt.title(\"Predicted Sentiment Distribution\")\n",
    "plt.xlabel(\"Predicted Label (1 = Support, 0 = Oppose)\")\n",
    "plt.ylabel(\"Count\")\n",
    "plt.tight_layout()\n",
    "plt.show()"
   ]
  },
  {
   "cell_type": "code",
   "execution_count": null,
   "metadata": {
    "vscode": {
     "languageId": "plaintext"
    }
   },
   "outputs": [],
   "source": [
    "supportive_text = ' '.join(df[df['predicted_label'] == 1]['short_comment'].dropna().astype(str))\n",
    "wordcloud_pos = WordCloud(width=800, height=400, background_color='white').generate(supportive_text)\n",
    "\n",
    "plt.figure(figsize=(10, 5))\n",
    "plt.imshow(wordcloud_pos, interpolation='bilinear')\n",
    "plt.axis('off')\n",
    "plt.title(\"Word Cloud - Predicted Supportive Comments\")\n",
    "plt.show()"
   ]
  },
  {
   "cell_type": "code",
   "execution_count": null,
   "metadata": {
    "vscode": {
     "languageId": "plaintext"
    }
   },
   "outputs": [],
   "source": [
    "nonsupportive_text = ' '.join(df[df['predicted_label'] == 0]['short_comment'].dropna().astype(str))\n",
    "wordcloud_neg = WordCloud(width=800, height=400, background_color='white').generate(nonsupportive_text)\n",
    "\n",
    "plt.figure(figsize=(10, 5))\n",
    "plt.imshow(wordcloud_neg, interpolation='bilinear')\n",
    "plt.axis('off')\n",
    "plt.title(\"Word Cloud - Predicted Non-Supportive Comments\")\n",
    "plt.show()"
   ]
  },
  {
   "cell_type": "code",
   "execution_count": null,
   "metadata": {
    "vscode": {
     "languageId": "plaintext"
    }
   },
   "outputs": [],
   "source": [
    "plt.figure(figsize=(8, 4))\n",
    "sns.histplot(df['confidence_score'], bins=30, kde=True)\n",
    "plt.title(\"Prediction Confidence Distribution\")\n",
    "plt.xlabel(\"Confidence Score\")\n",
    "plt.tight_layout()\n",
    "plt.show()"
   ]
  }
 ],
 "metadata": {
  "language_info": {
   "name": "python"
  }
 },
 "nbformat": 4,
 "nbformat_minor": 2
}
